{
 "cells": [
  {
   "cell_type": "code",
   "execution_count": 27,
   "id": "e8f7ca7d",
   "metadata": {},
   "outputs": [],
   "source": [
    "import glob\n",
    "import re\n",
    "import numpy as np\n",
    "import pandas as pd\n",
    "from pprint import pprint\n",
    "\n",
    "# Gensim\n",
    "import gensim\n",
    "import gensim.corpora as corpora\n",
    "from gensim.utils import simple_preprocess\n",
    "from gensim.models import CoherenceModel\n",
    "\n",
    "# spacy for lemmatization\n",
    "import spacy\n",
    "\n",
    "import Utils\n",
    "import matplotlib.pyplot as plt"
   ]
  },
  {
   "cell_type": "code",
   "execution_count": 2,
   "id": "8409568a",
   "metadata": {},
   "outputs": [],
   "source": [
    "# set file path to retrieve the data\n",
    "folder_path = '/Users/x-women/Desktop/UCD_ES_Project/ESM_EDIT/ESM_EDIT_Data/ESM_EDIT_Features/'\n",
    "transition_path = folder_path + 'STM_Transition/'\n"
   ]
  },
  {
   "cell_type": "code",
   "execution_count": 83,
   "id": "a486f7ab",
   "metadata": {
    "scrolled": false
   },
   "outputs": [],
   "source": [
    "# import the lemmatized data\n",
    "data = pd.read_csv('trigger_bigram_noV', header=None)\n",
    "\n",
    "# convert to list\n",
    "data_lemmatized = data.values.tolist()\n",
    "\n",
    "# flat list and remove nan\n",
    "flat_list = [item for sublist in data_lemmatized for item in sublist if pd.isnull(item) == False]\n"
   ]
  },
  {
   "cell_type": "code",
   "execution_count": 86,
   "id": "6ab9629a",
   "metadata": {},
   "outputs": [
    {
     "data": {
      "text/plain": [
       "['100',\n",
       " '101',\n",
       " '102',\n",
       " '103',\n",
       " '104',\n",
       " '105',\n",
       " '106',\n",
       " '107',\n",
       " '108',\n",
       " '109',\n",
       " '110',\n",
       " '111',\n",
       " '112',\n",
       " '113',\n",
       " '114',\n",
       " '115',\n",
       " '116',\n",
       " '117',\n",
       " '118',\n",
       " '119',\n",
       " '120',\n",
       " '121',\n",
       " '122',\n",
       " '123',\n",
       " '124',\n",
       " '125',\n",
       " '126',\n",
       " '127',\n",
       " '128',\n",
       " '129',\n",
       " '130',\n",
       " '131',\n",
       " '132',\n",
       " '133',\n",
       " '134',\n",
       " '135',\n",
       " '136',\n",
       " '137',\n",
       " '138',\n",
       " '139',\n",
       " '140',\n",
       " '141',\n",
       " '142',\n",
       " '143',\n",
       " '144',\n",
       " 145.0,\n",
       " 146.0,\n",
       " 147.0,\n",
       " 148.0,\n",
       " 149.0]"
      ]
     },
     "execution_count": 86,
     "metadata": {},
     "output_type": "execute_result"
    }
   ],
   "source": [
    "# flat the nested list\n",
    "flat_list[100:150]"
   ]
  },
  {
   "cell_type": "code",
   "execution_count": 87,
   "id": "62ae2f93",
   "metadata": {},
   "outputs": [],
   "source": [
    "import collections\n",
    "frequency = collections.Counter(flat_list)\n",
    "\n",
    "# sort the frequency by its value\n",
    "freq_srt = sorted(frequency.items(), key=lambda kv: kv[1], reverse = True)\n"
   ]
  },
  {
   "cell_type": "code",
   "execution_count": 88,
   "id": "4b407c57",
   "metadata": {
    "scrolled": false
   },
   "outputs": [
    {
     "data": {
      "text/plain": [
       "[('fire', 12475),\n",
       " ('grazing', 9836),\n",
       " ('management', 8079),\n",
       " ('increase', 5177),\n",
       " ('grass', 5117),\n",
       " ('disturbance', 4667),\n",
       " ('time', 3838),\n",
       " ('brush', 3837),\n",
       " ('season', 3723),\n",
       " ('tree', 3709),\n",
       " ('shrub', 3604),\n",
       " ('year', 3547),\n",
       " ('drought', 3343),\n",
       " ('reduce', 3289),\n",
       " ('occur', 3260),\n",
       " ('soil', 3252),\n",
       " ('allow', 3213),\n",
       " ('prescribe', 3198),\n",
       " ('period', 3086),\n",
       " ('seed', 3082),\n",
       " ('shift', 2993),\n",
       " ('graze', 2867),\n",
       " ('sagebrush', 2630),\n",
       " ('include', 2608),\n",
       " ('control', 2506),\n",
       " ('practice', 2268),\n",
       " ('woody', 2231),\n",
       " ('cover', 2227),\n",
       " ('crop', 2222),\n",
       " ('event', 2212),\n",
       " ('plant', 2198),\n",
       " ('vegetation', 2135),\n",
       " ('establishment', 2135),\n",
       " ('recovery', 2068),\n",
       " ('restoration', 1972),\n",
       " ('land', 1904),\n",
       " ('treatment', 1881),\n",
       " ('removal', 1848),\n",
       " ('term', 1794),\n",
       " ('canopy', 1762),\n",
       " ('follow', 1753),\n",
       " ('stand', 1705),\n",
       " ('decrease', 1705),\n",
       " ('remove', 1703),\n",
       " ('forage', 1698),\n",
       " ('planting', 1679),\n",
       " ('dominate', 1664),\n",
       " ('grow', 1622),\n",
       " ('succession', 1607),\n",
       " ('lack', 1566)]"
      ]
     },
     "execution_count": 88,
     "metadata": {},
     "output_type": "execute_result"
    }
   ],
   "source": [
    "freq_srt[:50]"
   ]
  },
  {
   "cell_type": "code",
   "execution_count": 89,
   "id": "5af9f5df",
   "metadata": {},
   "outputs": [],
   "source": [
    "# remove some words\n",
    "pd.DataFrame(freq_srt).to_csv(\"bow_frq_non.csv\",index=False, header=None)"
   ]
  },
  {
   "cell_type": "code",
   "execution_count": 103,
   "id": "bda644f2",
   "metadata": {
    "scrolled": true
   },
   "outputs": [
    {
     "data": {
      "text/html": [
       "<div>\n",
       "<style scoped>\n",
       "    .dataframe tbody tr th:only-of-type {\n",
       "        vertical-align: middle;\n",
       "    }\n",
       "\n",
       "    .dataframe tbody tr th {\n",
       "        vertical-align: top;\n",
       "    }\n",
       "\n",
       "    .dataframe thead th {\n",
       "        text-align: right;\n",
       "    }\n",
       "</style>\n",
       "<table border=\"1\" class=\"dataframe\">\n",
       "  <thead>\n",
       "    <tr style=\"text-align: right;\">\n",
       "      <th></th>\n",
       "      <th>0</th>\n",
       "      <th>1</th>\n",
       "    </tr>\n",
       "  </thead>\n",
       "  <tbody>\n",
       "    <tr>\n",
       "      <th>0</th>\n",
       "      <td>NaN</td>\n",
       "      <td>0</td>\n",
       "    </tr>\n",
       "    <tr>\n",
       "      <th>1</th>\n",
       "      <td>heavy_continuous</td>\n",
       "      <td>1248</td>\n",
       "    </tr>\n",
       "    <tr>\n",
       "      <th>2</th>\n",
       "      <td>continuous_grazing</td>\n",
       "      <td>1418</td>\n",
       "    </tr>\n",
       "    <tr>\n",
       "      <th>3</th>\n",
       "      <td>grazing_fires</td>\n",
       "      <td>142</td>\n",
       "    </tr>\n",
       "    <tr>\n",
       "      <th>4</th>\n",
       "      <td>fires_brush</td>\n",
       "      <td>144</td>\n",
       "    </tr>\n",
       "  </tbody>\n",
       "</table>\n",
       "</div>"
      ],
      "text/plain": [
       "                    0     1\n",
       "0                 NaN     0\n",
       "1    heavy_continuous  1248\n",
       "2  continuous_grazing  1418\n",
       "3       grazing_fires   142\n",
       "4         fires_brush   144"
      ]
     },
     "execution_count": 103,
     "metadata": {},
     "output_type": "execute_result"
    }
   ],
   "source": [
    "data2 = pd.read_csv('trigger_bigram_noV.csv', header=None)\n",
    "data2.head()"
   ]
  },
  {
   "cell_type": "code",
   "execution_count": 100,
   "id": "9a9e1634",
   "metadata": {},
   "outputs": [],
   "source": [
    "a = data2.iloc[2,[0]]"
   ]
  },
  {
   "cell_type": "code",
   "execution_count": 102,
   "id": "55a3a046",
   "metadata": {},
   "outputs": [
    {
     "ename": "AttributeError",
     "evalue": "'DataFrame' object has no attribute 'iterrow'",
     "output_type": "error",
     "traceback": [
      "\u001b[0;31m---------------------------------------------------------------------------\u001b[0m",
      "\u001b[0;31mAttributeError\u001b[0m                            Traceback (most recent call last)",
      "\u001b[0;32m/var/folders/l3/tgwv8gtd5ks4yrt35n5gc2bw0000gn/T/ipykernel_47867/2506800603.py\u001b[0m in \u001b[0;36m<module>\u001b[0;34m\u001b[0m\n\u001b[0;32m----> 1\u001b[0;31m \u001b[0;32mfor\u001b[0m \u001b[0mrow\u001b[0m \u001b[0;32min\u001b[0m \u001b[0mdata2\u001b[0m\u001b[0;34m.\u001b[0m\u001b[0miterrow\u001b[0m\u001b[0;34m(\u001b[0m\u001b[0;34m)\u001b[0m\u001b[0;34m:\u001b[0m\u001b[0;34m\u001b[0m\u001b[0;34m\u001b[0m\u001b[0m\n\u001b[0m\u001b[1;32m      2\u001b[0m     \u001b[0mprint\u001b[0m\u001b[0;34m(\u001b[0m\u001b[0mrow\u001b[0m\u001b[0;34m)\u001b[0m\u001b[0;34m\u001b[0m\u001b[0;34m\u001b[0m\u001b[0m\n",
      "\u001b[0;32m/opt/anaconda3/lib/python3.9/site-packages/pandas/core/generic.py\u001b[0m in \u001b[0;36m__getattr__\u001b[0;34m(self, name)\u001b[0m\n\u001b[1;32m   5485\u001b[0m         ):\n\u001b[1;32m   5486\u001b[0m             \u001b[0;32mreturn\u001b[0m \u001b[0mself\u001b[0m\u001b[0;34m[\u001b[0m\u001b[0mname\u001b[0m\u001b[0;34m]\u001b[0m\u001b[0;34m\u001b[0m\u001b[0;34m\u001b[0m\u001b[0m\n\u001b[0;32m-> 5487\u001b[0;31m         \u001b[0;32mreturn\u001b[0m \u001b[0mobject\u001b[0m\u001b[0;34m.\u001b[0m\u001b[0m__getattribute__\u001b[0m\u001b[0;34m(\u001b[0m\u001b[0mself\u001b[0m\u001b[0;34m,\u001b[0m \u001b[0mname\u001b[0m\u001b[0;34m)\u001b[0m\u001b[0;34m\u001b[0m\u001b[0;34m\u001b[0m\u001b[0m\n\u001b[0m\u001b[1;32m   5488\u001b[0m \u001b[0;34m\u001b[0m\u001b[0m\n\u001b[1;32m   5489\u001b[0m     \u001b[0;32mdef\u001b[0m \u001b[0m__setattr__\u001b[0m\u001b[0;34m(\u001b[0m\u001b[0mself\u001b[0m\u001b[0;34m,\u001b[0m \u001b[0mname\u001b[0m\u001b[0;34m:\u001b[0m \u001b[0mstr\u001b[0m\u001b[0;34m,\u001b[0m \u001b[0mvalue\u001b[0m\u001b[0;34m)\u001b[0m \u001b[0;34m->\u001b[0m \u001b[0;32mNone\u001b[0m\u001b[0;34m:\u001b[0m\u001b[0;34m\u001b[0m\u001b[0;34m\u001b[0m\u001b[0m\n",
      "\u001b[0;31mAttributeError\u001b[0m: 'DataFrame' object has no attribute 'iterrow'"
     ]
    }
   ],
   "source": [
    "for row in data2.iterrow():\n",
    "    print(row)"
   ]
  }
 ],
 "metadata": {
  "kernelspec": {
   "display_name": "Python 3 (ipykernel)",
   "language": "python",
   "name": "python3"
  },
  "language_info": {
   "codemirror_mode": {
    "name": "ipython",
    "version": 3
   },
   "file_extension": ".py",
   "mimetype": "text/x-python",
   "name": "python",
   "nbconvert_exporter": "python",
   "pygments_lexer": "ipython3",
   "version": "3.9.7"
  }
 },
 "nbformat": 4,
 "nbformat_minor": 5
}
