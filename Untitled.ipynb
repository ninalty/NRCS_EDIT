{
 "cells": [
  {
   "cell_type": "code",
   "execution_count": 32,
   "id": "03c21852",
   "metadata": {},
   "outputs": [],
   "source": [
    "from STM import STM\n",
    "\n",
    "# create the graph object for R055BY056ND\n",
    "graph = STM()\n",
    "\n",
    "# add states\n",
    "graph.add_state(1,'Reference State')\n",
    "graph.add_state(2, 'Native/Invaded State')\n",
    "graph.add_state(3, \"Invaded Grass State\")\n",
    "\n",
    "# build transition between states\n",
    "graph.add_edge(1, 2, 'Introduction of non-native species')\n",
    "graph.add_edge(2, 3, 'long-term rest from grazing and fire')\n",
    "graph.add_edge(3, 2, 'range seeding with native species with management to control invasive species')\n",
    "\n",
    "# plant communities\n",
    "# state 1 plant community 1\n",
    "graph.add_plant_cumms(1, 1, 'Green Needlegrass/Western Wheatgrass',\n",
    "                      # rp_low\n",
    "                      {'shrub/vine': 25, 'grass/grasslike': 1650, 'forb': 125},\n",
    "                      # rp_high\n",
    "                      {'shrub/vine': 135, 'grass/grasslike': 2990, 'forb': 275},\n",
    "                      # growth_curve\n",
    "                      {1:0,2:0,3:3,4:7,5:23,6:42,7:15,8:5,9:4,10:1,11:0,12:0})\n",
    "\n",
    "# state 1 plant community 2\n",
    "graph.add_plant_cumms(1, 2, 'Western Wheatgrass/Blue Grama/Sedge/Green Needlegrass',\n",
    "                      # rp_low\n",
    "                      None,\n",
    "                      # rp_high\n",
    "                      None,\n",
    "                      # growth_curve\n",
    "                      {1:0,2:0,3:3,4:7,5:23,6:42,7:15,8:5,9:4,10:1,11:0,12:0})\n",
    "\n",
    "# build pathway between plant community 1.1 and 1.2\n",
    "graph.add_pathway(1, 1, 2, 'spring fire followed by intensive grazing')\n",
    "graph.add_pathway(1, 2, 1, 'return to normal fire and grazing frequencies')"
   ]
  },
  {
   "cell_type": "code",
   "execution_count": 33,
   "id": "bc0ad4bb",
   "metadata": {
    "scrolled": true
   },
   "outputs": [
    {
     "data": {
      "text/html": [
       "\n",
       "        <iframe\n",
       "            width=\"500px\"\n",
       "            height=\"500px\"\n",
       "            src=\"nodes.html\"\n",
       "            frameborder=\"0\"\n",
       "            allowfullscreen\n",
       "            \n",
       "        ></iframe>\n",
       "        "
      ],
      "text/plain": [
       "<IPython.lib.display.IFrame at 0x7f7960cee400>"
      ]
     },
     "execution_count": 33,
     "metadata": {},
     "output_type": "execute_result"
    }
   ],
   "source": [
    "net = Network(notebook = True)\n",
    "\n",
    "for node in graph.vert_dict.values():\n",
    "    net.add_node(node.id, label=node.name)\n",
    "\n",
    "net.show('nodes.html')\n",
    "net = Network(notebook = True)\n",
    "\n",
    "for node in graph.vert_dict.values():\n",
    "    net.add_node(node.id, label=node.name)\n",
    "\n",
    "net.show('nodes.html')"
   ]
  },
  {
   "cell_type": "code",
   "execution_count": 34,
   "id": "9cc20353",
   "metadata": {},
   "outputs": [
    {
     "ename": "AttributeError",
     "evalue": "'PlantCommunity' object has no attribute 'id'",
     "output_type": "error",
     "traceback": [
      "\u001b[0;31m---------------------------------------------------------------------------\u001b[0m",
      "\u001b[0;31mAttributeError\u001b[0m                            Traceback (most recent call last)",
      "\u001b[0;32m/var/folders/l3/tgwv8gtd5ks4yrt35n5gc2bw0000gn/T/ipykernel_33409/1685276914.py\u001b[0m in \u001b[0;36m<module>\u001b[0;34m\u001b[0m\n\u001b[1;32m      5\u001b[0m \u001b[0;34m\u001b[0m\u001b[0m\n\u001b[1;32m      6\u001b[0m     \u001b[0;32mfor\u001b[0m \u001b[0mplant_node\u001b[0m \u001b[0;32min\u001b[0m \u001b[0mnode\u001b[0m\u001b[0;34m.\u001b[0m\u001b[0mplant_community\u001b[0m\u001b[0;34m.\u001b[0m\u001b[0mvalues\u001b[0m\u001b[0;34m(\u001b[0m\u001b[0;34m)\u001b[0m\u001b[0;34m:\u001b[0m\u001b[0;34m\u001b[0m\u001b[0;34m\u001b[0m\u001b[0m\n\u001b[0;32m----> 7\u001b[0;31m         \u001b[0mnet\u001b[0m\u001b[0;34m.\u001b[0m\u001b[0madd_node\u001b[0m\u001b[0;34m(\u001b[0m\u001b[0mplant_node\u001b[0m\u001b[0;34m.\u001b[0m\u001b[0mid\u001b[0m\u001b[0;34m,\u001b[0m \u001b[0mlabel\u001b[0m\u001b[0;34m=\u001b[0m\u001b[0mplant_node\u001b[0m\u001b[0;34m.\u001b[0m\u001b[0mid\u001b[0m\u001b[0;34m,\u001b[0m \u001b[0mcolor\u001b[0m\u001b[0;34m=\u001b[0m\u001b[0;34m'#eb4034'\u001b[0m\u001b[0;34m)\u001b[0m\u001b[0;34m\u001b[0m\u001b[0;34m\u001b[0m\u001b[0m\n\u001b[0m\u001b[1;32m      8\u001b[0m \u001b[0;34m\u001b[0m\u001b[0m\n\u001b[1;32m      9\u001b[0m \u001b[0;32mfor\u001b[0m \u001b[0mnode\u001b[0m \u001b[0;32min\u001b[0m \u001b[0mgraph\u001b[0m\u001b[0;34m.\u001b[0m\u001b[0mvert_dict\u001b[0m\u001b[0;34m.\u001b[0m\u001b[0mvalues\u001b[0m\u001b[0;34m(\u001b[0m\u001b[0;34m)\u001b[0m\u001b[0;34m:\u001b[0m\u001b[0;34m\u001b[0m\u001b[0;34m\u001b[0m\u001b[0m\n",
      "\u001b[0;31mAttributeError\u001b[0m: 'PlantCommunity' object has no attribute 'id'"
     ]
    }
   ],
   "source": [
    "net = Network(notebook = True)\n",
    "\n",
    "for node in graph.vert_dict.values():\n",
    "    net.add_node(node.id, label=node.id)\n",
    "    \n",
    "    for plant_node in node.plant_community.values():\n",
    "        net.add_node(plant_node.id, label=plant_node.id, color='#eb4034')\n",
    "    \n",
    "for node in graph.vert_dict.values():\n",
    "    if node.adjacent:\n",
    "        for nei in node.adjacent:\n",
    "            net.add_edge(node.id, nei.id)\n",
    "\n",
    "net.show('nodes.html')"
   ]
  },
  {
   "cell_type": "code",
   "execution_count": null,
   "id": "d8ef42d1",
   "metadata": {},
   "outputs": [],
   "source": []
  }
 ],
 "metadata": {
  "kernelspec": {
   "display_name": "Python 3 (ipykernel)",
   "language": "python",
   "name": "python3"
  },
  "language_info": {
   "codemirror_mode": {
    "name": "ipython",
    "version": 3
   },
   "file_extension": ".py",
   "mimetype": "text/x-python",
   "name": "python",
   "nbconvert_exporter": "python",
   "pygments_lexer": "ipython3",
   "version": "3.9.7"
  }
 },
 "nbformat": 4,
 "nbformat_minor": 5
}
